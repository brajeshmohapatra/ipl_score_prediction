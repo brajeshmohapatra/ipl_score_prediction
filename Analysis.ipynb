{
 "cells": [
  {
   "cell_type": "code",
   "execution_count": 1,
   "metadata": {
    "ExecuteTime": {
     "end_time": "2021-04-14T07:32:47.625010Z",
     "start_time": "2021-04-14T07:32:46.621118Z"
    }
   },
   "outputs": [
    {
     "data": {
      "text/html": [
       "<style>.container{width : 100% ! important;}</style>"
      ],
      "text/plain": [
       "<IPython.core.display.HTML object>"
      ]
     },
     "metadata": {},
     "output_type": "display_data"
    }
   ],
   "source": [
    "import warnings\n",
    "import numpy as np\n",
    "import pandas as pd\n",
    "import seaborn as sns\n",
    "import matplotlib.pyplot as plt\n",
    "from IPython.core.display import display, HTML\n",
    "%matplotlib inline\n",
    "warnings.filterwarnings('ignore')\n",
    "pd.pandas.set_option('display.max_rows', None)\n",
    "pd.pandas.set_option('display.max_columns', None)\n",
    "display(HTML('<style>.container{width : 100% ! important;}</style>'))"
   ]
  },
  {
   "cell_type": "code",
   "execution_count": 2,
   "metadata": {
    "ExecuteTime": {
     "end_time": "2021-04-14T07:32:48.316324Z",
     "start_time": "2021-04-14T07:32:47.627004Z"
    }
   },
   "outputs": [
    {
     "data": {
      "text/html": [
       "<div>\n",
       "<style scoped>\n",
       "    .dataframe tbody tr th:only-of-type {\n",
       "        vertical-align: middle;\n",
       "    }\n",
       "\n",
       "    .dataframe tbody tr th {\n",
       "        vertical-align: top;\n",
       "    }\n",
       "\n",
       "    .dataframe thead th {\n",
       "        text-align: right;\n",
       "    }\n",
       "</style>\n",
       "<table border=\"1\" class=\"dataframe\">\n",
       "  <thead>\n",
       "    <tr style=\"text-align: right;\">\n",
       "      <th></th>\n",
       "      <th>id</th>\n",
       "      <th>date</th>\n",
       "      <th>city</th>\n",
       "      <th>venue</th>\n",
       "      <th>1st_team</th>\n",
       "      <th>neutral_venue</th>\n",
       "      <th>2nd_team</th>\n",
       "      <th>toss_winner</th>\n",
       "      <th>toss_decision</th>\n",
       "      <th>inning</th>\n",
       "      <th>batting_team</th>\n",
       "      <th>bowling_team</th>\n",
       "      <th>batsman</th>\n",
       "      <th>non_striker</th>\n",
       "      <th>bowler</th>\n",
       "      <th>over</th>\n",
       "      <th>ball</th>\n",
       "      <th>batsman_runs</th>\n",
       "      <th>extra_runs</th>\n",
       "      <th>total_runs</th>\n",
       "      <th>non_boundary</th>\n",
       "      <th>is_wicket</th>\n",
       "      <th>dismissal_kind</th>\n",
       "      <th>player_dismissed</th>\n",
       "      <th>fielder</th>\n",
       "      <th>extras_type</th>\n",
       "      <th>runs</th>\n",
       "      <th>wickets</th>\n",
       "      <th>runs_last_5_overs</th>\n",
       "      <th>wickets_last_5_overs</th>\n",
       "      <th>winner</th>\n",
       "      <th>result</th>\n",
       "      <th>result_margin</th>\n",
       "      <th>player_of_match</th>\n",
       "      <th>eliminator</th>\n",
       "      <th>method</th>\n",
       "      <th>umpire1</th>\n",
       "      <th>umpire2</th>\n",
       "      <th>final_score</th>\n",
       "      <th>total_wickets</th>\n",
       "    </tr>\n",
       "  </thead>\n",
       "  <tbody>\n",
       "    <tr>\n",
       "      <th>0</th>\n",
       "      <td>335982</td>\n",
       "      <td>18-04-2008</td>\n",
       "      <td>Bangalore</td>\n",
       "      <td>M Chinnaswamy Stadium</td>\n",
       "      <td>Royal Challengers Bangalore</td>\n",
       "      <td>0</td>\n",
       "      <td>Kolkata Knight Riders</td>\n",
       "      <td>Royal Challengers Bangalore</td>\n",
       "      <td>field</td>\n",
       "      <td>1</td>\n",
       "      <td>Kolkata Knight Riders</td>\n",
       "      <td>Royal Challengers Bangalore</td>\n",
       "      <td>SC Ganguly</td>\n",
       "      <td>BB McCullum</td>\n",
       "      <td>P Kumar</td>\n",
       "      <td>0</td>\n",
       "      <td>1</td>\n",
       "      <td>0</td>\n",
       "      <td>1</td>\n",
       "      <td>1</td>\n",
       "      <td>0</td>\n",
       "      <td>0</td>\n",
       "      <td>NaN</td>\n",
       "      <td>NaN</td>\n",
       "      <td>NaN</td>\n",
       "      <td>legbyes</td>\n",
       "      <td>1</td>\n",
       "      <td>0</td>\n",
       "      <td>0</td>\n",
       "      <td>0</td>\n",
       "      <td>Kolkata Knight Riders</td>\n",
       "      <td>runs</td>\n",
       "      <td>140.0</td>\n",
       "      <td>BB McCullum</td>\n",
       "      <td>N</td>\n",
       "      <td>NaN</td>\n",
       "      <td>Asad Rauf</td>\n",
       "      <td>RE Koertzen</td>\n",
       "      <td>222</td>\n",
       "      <td>3</td>\n",
       "    </tr>\n",
       "    <tr>\n",
       "      <th>1</th>\n",
       "      <td>335982</td>\n",
       "      <td>18-04-2008</td>\n",
       "      <td>Bangalore</td>\n",
       "      <td>M Chinnaswamy Stadium</td>\n",
       "      <td>Royal Challengers Bangalore</td>\n",
       "      <td>0</td>\n",
       "      <td>Kolkata Knight Riders</td>\n",
       "      <td>Royal Challengers Bangalore</td>\n",
       "      <td>field</td>\n",
       "      <td>1</td>\n",
       "      <td>Kolkata Knight Riders</td>\n",
       "      <td>Royal Challengers Bangalore</td>\n",
       "      <td>BB McCullum</td>\n",
       "      <td>SC Ganguly</td>\n",
       "      <td>P Kumar</td>\n",
       "      <td>0</td>\n",
       "      <td>2</td>\n",
       "      <td>0</td>\n",
       "      <td>0</td>\n",
       "      <td>0</td>\n",
       "      <td>0</td>\n",
       "      <td>0</td>\n",
       "      <td>NaN</td>\n",
       "      <td>NaN</td>\n",
       "      <td>NaN</td>\n",
       "      <td>NaN</td>\n",
       "      <td>1</td>\n",
       "      <td>0</td>\n",
       "      <td>1</td>\n",
       "      <td>0</td>\n",
       "      <td>Kolkata Knight Riders</td>\n",
       "      <td>runs</td>\n",
       "      <td>140.0</td>\n",
       "      <td>BB McCullum</td>\n",
       "      <td>N</td>\n",
       "      <td>NaN</td>\n",
       "      <td>Asad Rauf</td>\n",
       "      <td>RE Koertzen</td>\n",
       "      <td>222</td>\n",
       "      <td>3</td>\n",
       "    </tr>\n",
       "    <tr>\n",
       "      <th>2</th>\n",
       "      <td>335982</td>\n",
       "      <td>18-04-2008</td>\n",
       "      <td>Bangalore</td>\n",
       "      <td>M Chinnaswamy Stadium</td>\n",
       "      <td>Royal Challengers Bangalore</td>\n",
       "      <td>0</td>\n",
       "      <td>Kolkata Knight Riders</td>\n",
       "      <td>Royal Challengers Bangalore</td>\n",
       "      <td>field</td>\n",
       "      <td>1</td>\n",
       "      <td>Kolkata Knight Riders</td>\n",
       "      <td>Royal Challengers Bangalore</td>\n",
       "      <td>BB McCullum</td>\n",
       "      <td>SC Ganguly</td>\n",
       "      <td>P Kumar</td>\n",
       "      <td>0</td>\n",
       "      <td>3</td>\n",
       "      <td>0</td>\n",
       "      <td>1</td>\n",
       "      <td>1</td>\n",
       "      <td>0</td>\n",
       "      <td>0</td>\n",
       "      <td>NaN</td>\n",
       "      <td>NaN</td>\n",
       "      <td>NaN</td>\n",
       "      <td>wides</td>\n",
       "      <td>2</td>\n",
       "      <td>0</td>\n",
       "      <td>2</td>\n",
       "      <td>0</td>\n",
       "      <td>Kolkata Knight Riders</td>\n",
       "      <td>runs</td>\n",
       "      <td>140.0</td>\n",
       "      <td>BB McCullum</td>\n",
       "      <td>N</td>\n",
       "      <td>NaN</td>\n",
       "      <td>Asad Rauf</td>\n",
       "      <td>RE Koertzen</td>\n",
       "      <td>222</td>\n",
       "      <td>3</td>\n",
       "    </tr>\n",
       "    <tr>\n",
       "      <th>3</th>\n",
       "      <td>335982</td>\n",
       "      <td>18-04-2008</td>\n",
       "      <td>Bangalore</td>\n",
       "      <td>M Chinnaswamy Stadium</td>\n",
       "      <td>Royal Challengers Bangalore</td>\n",
       "      <td>0</td>\n",
       "      <td>Kolkata Knight Riders</td>\n",
       "      <td>Royal Challengers Bangalore</td>\n",
       "      <td>field</td>\n",
       "      <td>1</td>\n",
       "      <td>Kolkata Knight Riders</td>\n",
       "      <td>Royal Challengers Bangalore</td>\n",
       "      <td>BB McCullum</td>\n",
       "      <td>SC Ganguly</td>\n",
       "      <td>P Kumar</td>\n",
       "      <td>0</td>\n",
       "      <td>4</td>\n",
       "      <td>0</td>\n",
       "      <td>0</td>\n",
       "      <td>0</td>\n",
       "      <td>0</td>\n",
       "      <td>0</td>\n",
       "      <td>NaN</td>\n",
       "      <td>NaN</td>\n",
       "      <td>NaN</td>\n",
       "      <td>NaN</td>\n",
       "      <td>2</td>\n",
       "      <td>0</td>\n",
       "      <td>2</td>\n",
       "      <td>0</td>\n",
       "      <td>Kolkata Knight Riders</td>\n",
       "      <td>runs</td>\n",
       "      <td>140.0</td>\n",
       "      <td>BB McCullum</td>\n",
       "      <td>N</td>\n",
       "      <td>NaN</td>\n",
       "      <td>Asad Rauf</td>\n",
       "      <td>RE Koertzen</td>\n",
       "      <td>222</td>\n",
       "      <td>3</td>\n",
       "    </tr>\n",
       "    <tr>\n",
       "      <th>4</th>\n",
       "      <td>335982</td>\n",
       "      <td>18-04-2008</td>\n",
       "      <td>Bangalore</td>\n",
       "      <td>M Chinnaswamy Stadium</td>\n",
       "      <td>Royal Challengers Bangalore</td>\n",
       "      <td>0</td>\n",
       "      <td>Kolkata Knight Riders</td>\n",
       "      <td>Royal Challengers Bangalore</td>\n",
       "      <td>field</td>\n",
       "      <td>1</td>\n",
       "      <td>Kolkata Knight Riders</td>\n",
       "      <td>Royal Challengers Bangalore</td>\n",
       "      <td>BB McCullum</td>\n",
       "      <td>SC Ganguly</td>\n",
       "      <td>P Kumar</td>\n",
       "      <td>0</td>\n",
       "      <td>5</td>\n",
       "      <td>0</td>\n",
       "      <td>0</td>\n",
       "      <td>0</td>\n",
       "      <td>0</td>\n",
       "      <td>0</td>\n",
       "      <td>NaN</td>\n",
       "      <td>NaN</td>\n",
       "      <td>NaN</td>\n",
       "      <td>NaN</td>\n",
       "      <td>2</td>\n",
       "      <td>0</td>\n",
       "      <td>2</td>\n",
       "      <td>0</td>\n",
       "      <td>Kolkata Knight Riders</td>\n",
       "      <td>runs</td>\n",
       "      <td>140.0</td>\n",
       "      <td>BB McCullum</td>\n",
       "      <td>N</td>\n",
       "      <td>NaN</td>\n",
       "      <td>Asad Rauf</td>\n",
       "      <td>RE Koertzen</td>\n",
       "      <td>222</td>\n",
       "      <td>3</td>\n",
       "    </tr>\n",
       "  </tbody>\n",
       "</table>\n",
       "</div>"
      ],
      "text/plain": [
       "       id        date       city                  venue  \\\n",
       "0  335982  18-04-2008  Bangalore  M Chinnaswamy Stadium   \n",
       "1  335982  18-04-2008  Bangalore  M Chinnaswamy Stadium   \n",
       "2  335982  18-04-2008  Bangalore  M Chinnaswamy Stadium   \n",
       "3  335982  18-04-2008  Bangalore  M Chinnaswamy Stadium   \n",
       "4  335982  18-04-2008  Bangalore  M Chinnaswamy Stadium   \n",
       "\n",
       "                      1st_team  neutral_venue               2nd_team  \\\n",
       "0  Royal Challengers Bangalore              0  Kolkata Knight Riders   \n",
       "1  Royal Challengers Bangalore              0  Kolkata Knight Riders   \n",
       "2  Royal Challengers Bangalore              0  Kolkata Knight Riders   \n",
       "3  Royal Challengers Bangalore              0  Kolkata Knight Riders   \n",
       "4  Royal Challengers Bangalore              0  Kolkata Knight Riders   \n",
       "\n",
       "                   toss_winner toss_decision  inning           batting_team  \\\n",
       "0  Royal Challengers Bangalore         field       1  Kolkata Knight Riders   \n",
       "1  Royal Challengers Bangalore         field       1  Kolkata Knight Riders   \n",
       "2  Royal Challengers Bangalore         field       1  Kolkata Knight Riders   \n",
       "3  Royal Challengers Bangalore         field       1  Kolkata Knight Riders   \n",
       "4  Royal Challengers Bangalore         field       1  Kolkata Knight Riders   \n",
       "\n",
       "                  bowling_team      batsman  non_striker   bowler  over  ball  \\\n",
       "0  Royal Challengers Bangalore   SC Ganguly  BB McCullum  P Kumar     0     1   \n",
       "1  Royal Challengers Bangalore  BB McCullum   SC Ganguly  P Kumar     0     2   \n",
       "2  Royal Challengers Bangalore  BB McCullum   SC Ganguly  P Kumar     0     3   \n",
       "3  Royal Challengers Bangalore  BB McCullum   SC Ganguly  P Kumar     0     4   \n",
       "4  Royal Challengers Bangalore  BB McCullum   SC Ganguly  P Kumar     0     5   \n",
       "\n",
       "   batsman_runs  extra_runs  total_runs  non_boundary  is_wicket  \\\n",
       "0             0           1           1             0          0   \n",
       "1             0           0           0             0          0   \n",
       "2             0           1           1             0          0   \n",
       "3             0           0           0             0          0   \n",
       "4             0           0           0             0          0   \n",
       "\n",
       "  dismissal_kind player_dismissed fielder extras_type  runs  wickets  \\\n",
       "0            NaN              NaN     NaN     legbyes     1        0   \n",
       "1            NaN              NaN     NaN         NaN     1        0   \n",
       "2            NaN              NaN     NaN       wides     2        0   \n",
       "3            NaN              NaN     NaN         NaN     2        0   \n",
       "4            NaN              NaN     NaN         NaN     2        0   \n",
       "\n",
       "   runs_last_5_overs  wickets_last_5_overs                 winner result  \\\n",
       "0                  0                     0  Kolkata Knight Riders   runs   \n",
       "1                  1                     0  Kolkata Knight Riders   runs   \n",
       "2                  2                     0  Kolkata Knight Riders   runs   \n",
       "3                  2                     0  Kolkata Knight Riders   runs   \n",
       "4                  2                     0  Kolkata Knight Riders   runs   \n",
       "\n",
       "   result_margin player_of_match eliminator method    umpire1      umpire2  \\\n",
       "0          140.0     BB McCullum          N    NaN  Asad Rauf  RE Koertzen   \n",
       "1          140.0     BB McCullum          N    NaN  Asad Rauf  RE Koertzen   \n",
       "2          140.0     BB McCullum          N    NaN  Asad Rauf  RE Koertzen   \n",
       "3          140.0     BB McCullum          N    NaN  Asad Rauf  RE Koertzen   \n",
       "4          140.0     BB McCullum          N    NaN  Asad Rauf  RE Koertzen   \n",
       "\n",
       "   final_score  total_wickets  \n",
       "0          222              3  \n",
       "1          222              3  \n",
       "2          222              3  \n",
       "3          222              3  \n",
       "4          222              3  "
      ]
     },
     "execution_count": 2,
     "metadata": {},
     "output_type": "execute_result"
    }
   ],
   "source": [
    "df = pd.read_csv('IndianPremierLeague.csv')\n",
    "df.head()"
   ]
  },
  {
   "cell_type": "code",
   "execution_count": 3,
   "metadata": {
    "ExecuteTime": {
     "end_time": "2021-04-14T07:32:48.410855Z",
     "start_time": "2021-04-14T07:32:48.317322Z"
    }
   },
   "outputs": [
    {
     "data": {
      "text/html": [
       "<div>\n",
       "<style scoped>\n",
       "    .dataframe tbody tr th:only-of-type {\n",
       "        vertical-align: middle;\n",
       "    }\n",
       "\n",
       "    .dataframe tbody tr th {\n",
       "        vertical-align: top;\n",
       "    }\n",
       "\n",
       "    .dataframe thead th {\n",
       "        text-align: right;\n",
       "    }\n",
       "</style>\n",
       "<table border=\"1\" class=\"dataframe\">\n",
       "  <thead>\n",
       "    <tr style=\"text-align: right;\">\n",
       "      <th></th>\n",
       "      <th>id</th>\n",
       "      <th>date</th>\n",
       "      <th>city</th>\n",
       "      <th>venue</th>\n",
       "      <th>1st_team</th>\n",
       "      <th>neutral_venue</th>\n",
       "      <th>2nd_team</th>\n",
       "      <th>toss_winner</th>\n",
       "      <th>toss_decision</th>\n",
       "      <th>inning</th>\n",
       "      <th>batting_team</th>\n",
       "      <th>bowling_team</th>\n",
       "      <th>batsman</th>\n",
       "      <th>non_striker</th>\n",
       "      <th>bowler</th>\n",
       "      <th>over</th>\n",
       "      <th>ball</th>\n",
       "      <th>batsman_runs</th>\n",
       "      <th>extra_runs</th>\n",
       "      <th>total_runs</th>\n",
       "      <th>non_boundary</th>\n",
       "      <th>is_wicket</th>\n",
       "      <th>dismissal_kind</th>\n",
       "      <th>player_dismissed</th>\n",
       "      <th>fielder</th>\n",
       "      <th>extras_type</th>\n",
       "      <th>runs</th>\n",
       "      <th>wickets</th>\n",
       "      <th>runs_last_5_overs</th>\n",
       "      <th>wickets_last_5_overs</th>\n",
       "      <th>winner</th>\n",
       "      <th>result</th>\n",
       "      <th>result_margin</th>\n",
       "      <th>player_of_match</th>\n",
       "      <th>eliminator</th>\n",
       "      <th>method</th>\n",
       "      <th>umpire1</th>\n",
       "      <th>umpire2</th>\n",
       "      <th>final_score</th>\n",
       "      <th>total_wickets</th>\n",
       "    </tr>\n",
       "  </thead>\n",
       "  <tbody>\n",
       "    <tr>\n",
       "      <th>88361</th>\n",
       "      <td>598048</td>\n",
       "      <td>09-04-2013</td>\n",
       "      <td>Bangalore</td>\n",
       "      <td>M Chinnaswamy Stadium</td>\n",
       "      <td>Royal Challengers Bangalore</td>\n",
       "      <td>0</td>\n",
       "      <td>Sunrisers Hyderabad</td>\n",
       "      <td>Sunrisers Hyderabad</td>\n",
       "      <td>bat</td>\n",
       "      <td>1</td>\n",
       "      <td>Sunrisers Hyderabad</td>\n",
       "      <td>Royal Challengers Bangalore</td>\n",
       "      <td>PA Reddy</td>\n",
       "      <td>PA Patel</td>\n",
       "      <td>RP Singh</td>\n",
       "      <td>0</td>\n",
       "      <td>1</td>\n",
       "      <td>0</td>\n",
       "      <td>0</td>\n",
       "      <td>0</td>\n",
       "      <td>0</td>\n",
       "      <td>0</td>\n",
       "      <td>NaN</td>\n",
       "      <td>NaN</td>\n",
       "      <td>NaN</td>\n",
       "      <td>NaN</td>\n",
       "      <td>0</td>\n",
       "      <td>0</td>\n",
       "      <td>0</td>\n",
       "      <td>0</td>\n",
       "      <td>Royal Challengers Bangalore</td>\n",
       "      <td>wickets</td>\n",
       "      <td>7.0</td>\n",
       "      <td>V Kohli</td>\n",
       "      <td>N</td>\n",
       "      <td>NaN</td>\n",
       "      <td>S Ravi</td>\n",
       "      <td>SJA Taufel</td>\n",
       "      <td>161</td>\n",
       "      <td>6</td>\n",
       "    </tr>\n",
       "    <tr>\n",
       "      <th>88362</th>\n",
       "      <td>598048</td>\n",
       "      <td>09-04-2013</td>\n",
       "      <td>Bangalore</td>\n",
       "      <td>M Chinnaswamy Stadium</td>\n",
       "      <td>Royal Challengers Bangalore</td>\n",
       "      <td>0</td>\n",
       "      <td>Sunrisers Hyderabad</td>\n",
       "      <td>Sunrisers Hyderabad</td>\n",
       "      <td>bat</td>\n",
       "      <td>1</td>\n",
       "      <td>Sunrisers Hyderabad</td>\n",
       "      <td>Royal Challengers Bangalore</td>\n",
       "      <td>PA Reddy</td>\n",
       "      <td>PA Patel</td>\n",
       "      <td>RP Singh</td>\n",
       "      <td>0</td>\n",
       "      <td>2</td>\n",
       "      <td>2</td>\n",
       "      <td>0</td>\n",
       "      <td>2</td>\n",
       "      <td>0</td>\n",
       "      <td>0</td>\n",
       "      <td>NaN</td>\n",
       "      <td>NaN</td>\n",
       "      <td>NaN</td>\n",
       "      <td>NaN</td>\n",
       "      <td>2</td>\n",
       "      <td>0</td>\n",
       "      <td>2</td>\n",
       "      <td>0</td>\n",
       "      <td>Royal Challengers Bangalore</td>\n",
       "      <td>wickets</td>\n",
       "      <td>7.0</td>\n",
       "      <td>V Kohli</td>\n",
       "      <td>N</td>\n",
       "      <td>NaN</td>\n",
       "      <td>S Ravi</td>\n",
       "      <td>SJA Taufel</td>\n",
       "      <td>161</td>\n",
       "      <td>6</td>\n",
       "    </tr>\n",
       "    <tr>\n",
       "      <th>88363</th>\n",
       "      <td>598048</td>\n",
       "      <td>09-04-2013</td>\n",
       "      <td>Bangalore</td>\n",
       "      <td>M Chinnaswamy Stadium</td>\n",
       "      <td>Royal Challengers Bangalore</td>\n",
       "      <td>0</td>\n",
       "      <td>Sunrisers Hyderabad</td>\n",
       "      <td>Sunrisers Hyderabad</td>\n",
       "      <td>bat</td>\n",
       "      <td>1</td>\n",
       "      <td>Sunrisers Hyderabad</td>\n",
       "      <td>Royal Challengers Bangalore</td>\n",
       "      <td>PA Reddy</td>\n",
       "      <td>PA Patel</td>\n",
       "      <td>RP Singh</td>\n",
       "      <td>0</td>\n",
       "      <td>3</td>\n",
       "      <td>4</td>\n",
       "      <td>0</td>\n",
       "      <td>4</td>\n",
       "      <td>0</td>\n",
       "      <td>0</td>\n",
       "      <td>NaN</td>\n",
       "      <td>NaN</td>\n",
       "      <td>NaN</td>\n",
       "      <td>NaN</td>\n",
       "      <td>6</td>\n",
       "      <td>0</td>\n",
       "      <td>6</td>\n",
       "      <td>0</td>\n",
       "      <td>Royal Challengers Bangalore</td>\n",
       "      <td>wickets</td>\n",
       "      <td>7.0</td>\n",
       "      <td>V Kohli</td>\n",
       "      <td>N</td>\n",
       "      <td>NaN</td>\n",
       "      <td>S Ravi</td>\n",
       "      <td>SJA Taufel</td>\n",
       "      <td>161</td>\n",
       "      <td>6</td>\n",
       "    </tr>\n",
       "    <tr>\n",
       "      <th>88364</th>\n",
       "      <td>598048</td>\n",
       "      <td>09-04-2013</td>\n",
       "      <td>Bangalore</td>\n",
       "      <td>M Chinnaswamy Stadium</td>\n",
       "      <td>Royal Challengers Bangalore</td>\n",
       "      <td>0</td>\n",
       "      <td>Sunrisers Hyderabad</td>\n",
       "      <td>Sunrisers Hyderabad</td>\n",
       "      <td>bat</td>\n",
       "      <td>1</td>\n",
       "      <td>Sunrisers Hyderabad</td>\n",
       "      <td>Royal Challengers Bangalore</td>\n",
       "      <td>PA Reddy</td>\n",
       "      <td>PA Patel</td>\n",
       "      <td>RP Singh</td>\n",
       "      <td>0</td>\n",
       "      <td>4</td>\n",
       "      <td>0</td>\n",
       "      <td>0</td>\n",
       "      <td>0</td>\n",
       "      <td>0</td>\n",
       "      <td>0</td>\n",
       "      <td>NaN</td>\n",
       "      <td>NaN</td>\n",
       "      <td>NaN</td>\n",
       "      <td>NaN</td>\n",
       "      <td>6</td>\n",
       "      <td>0</td>\n",
       "      <td>6</td>\n",
       "      <td>0</td>\n",
       "      <td>Royal Challengers Bangalore</td>\n",
       "      <td>wickets</td>\n",
       "      <td>7.0</td>\n",
       "      <td>V Kohli</td>\n",
       "      <td>N</td>\n",
       "      <td>NaN</td>\n",
       "      <td>S Ravi</td>\n",
       "      <td>SJA Taufel</td>\n",
       "      <td>161</td>\n",
       "      <td>6</td>\n",
       "    </tr>\n",
       "    <tr>\n",
       "      <th>88365</th>\n",
       "      <td>598048</td>\n",
       "      <td>09-04-2013</td>\n",
       "      <td>Bangalore</td>\n",
       "      <td>M Chinnaswamy Stadium</td>\n",
       "      <td>Royal Challengers Bangalore</td>\n",
       "      <td>0</td>\n",
       "      <td>Sunrisers Hyderabad</td>\n",
       "      <td>Sunrisers Hyderabad</td>\n",
       "      <td>bat</td>\n",
       "      <td>1</td>\n",
       "      <td>Sunrisers Hyderabad</td>\n",
       "      <td>Royal Challengers Bangalore</td>\n",
       "      <td>PA Reddy</td>\n",
       "      <td>PA Patel</td>\n",
       "      <td>RP Singh</td>\n",
       "      <td>0</td>\n",
       "      <td>5</td>\n",
       "      <td>0</td>\n",
       "      <td>0</td>\n",
       "      <td>0</td>\n",
       "      <td>0</td>\n",
       "      <td>0</td>\n",
       "      <td>NaN</td>\n",
       "      <td>NaN</td>\n",
       "      <td>NaN</td>\n",
       "      <td>NaN</td>\n",
       "      <td>6</td>\n",
       "      <td>0</td>\n",
       "      <td>6</td>\n",
       "      <td>0</td>\n",
       "      <td>Royal Challengers Bangalore</td>\n",
       "      <td>wickets</td>\n",
       "      <td>7.0</td>\n",
       "      <td>V Kohli</td>\n",
       "      <td>N</td>\n",
       "      <td>NaN</td>\n",
       "      <td>S Ravi</td>\n",
       "      <td>SJA Taufel</td>\n",
       "      <td>161</td>\n",
       "      <td>6</td>\n",
       "    </tr>\n",
       "  </tbody>\n",
       "</table>\n",
       "</div>"
      ],
      "text/plain": [
       "           id        date       city                  venue  \\\n",
       "88361  598048  09-04-2013  Bangalore  M Chinnaswamy Stadium   \n",
       "88362  598048  09-04-2013  Bangalore  M Chinnaswamy Stadium   \n",
       "88363  598048  09-04-2013  Bangalore  M Chinnaswamy Stadium   \n",
       "88364  598048  09-04-2013  Bangalore  M Chinnaswamy Stadium   \n",
       "88365  598048  09-04-2013  Bangalore  M Chinnaswamy Stadium   \n",
       "\n",
       "                          1st_team  neutral_venue             2nd_team  \\\n",
       "88361  Royal Challengers Bangalore              0  Sunrisers Hyderabad   \n",
       "88362  Royal Challengers Bangalore              0  Sunrisers Hyderabad   \n",
       "88363  Royal Challengers Bangalore              0  Sunrisers Hyderabad   \n",
       "88364  Royal Challengers Bangalore              0  Sunrisers Hyderabad   \n",
       "88365  Royal Challengers Bangalore              0  Sunrisers Hyderabad   \n",
       "\n",
       "               toss_winner toss_decision  inning         batting_team  \\\n",
       "88361  Sunrisers Hyderabad           bat       1  Sunrisers Hyderabad   \n",
       "88362  Sunrisers Hyderabad           bat       1  Sunrisers Hyderabad   \n",
       "88363  Sunrisers Hyderabad           bat       1  Sunrisers Hyderabad   \n",
       "88364  Sunrisers Hyderabad           bat       1  Sunrisers Hyderabad   \n",
       "88365  Sunrisers Hyderabad           bat       1  Sunrisers Hyderabad   \n",
       "\n",
       "                      bowling_team   batsman non_striker    bowler  over  \\\n",
       "88361  Royal Challengers Bangalore  PA Reddy    PA Patel  RP Singh     0   \n",
       "88362  Royal Challengers Bangalore  PA Reddy    PA Patel  RP Singh     0   \n",
       "88363  Royal Challengers Bangalore  PA Reddy    PA Patel  RP Singh     0   \n",
       "88364  Royal Challengers Bangalore  PA Reddy    PA Patel  RP Singh     0   \n",
       "88365  Royal Challengers Bangalore  PA Reddy    PA Patel  RP Singh     0   \n",
       "\n",
       "       ball  batsman_runs  extra_runs  total_runs  non_boundary  is_wicket  \\\n",
       "88361     1             0           0           0             0          0   \n",
       "88362     2             2           0           2             0          0   \n",
       "88363     3             4           0           4             0          0   \n",
       "88364     4             0           0           0             0          0   \n",
       "88365     5             0           0           0             0          0   \n",
       "\n",
       "      dismissal_kind player_dismissed fielder extras_type  runs  wickets  \\\n",
       "88361            NaN              NaN     NaN         NaN     0        0   \n",
       "88362            NaN              NaN     NaN         NaN     2        0   \n",
       "88363            NaN              NaN     NaN         NaN     6        0   \n",
       "88364            NaN              NaN     NaN         NaN     6        0   \n",
       "88365            NaN              NaN     NaN         NaN     6        0   \n",
       "\n",
       "       runs_last_5_overs  wickets_last_5_overs                       winner  \\\n",
       "88361                  0                     0  Royal Challengers Bangalore   \n",
       "88362                  2                     0  Royal Challengers Bangalore   \n",
       "88363                  6                     0  Royal Challengers Bangalore   \n",
       "88364                  6                     0  Royal Challengers Bangalore   \n",
       "88365                  6                     0  Royal Challengers Bangalore   \n",
       "\n",
       "        result  result_margin player_of_match eliminator method umpire1  \\\n",
       "88361  wickets            7.0         V Kohli          N    NaN  S Ravi   \n",
       "88362  wickets            7.0         V Kohli          N    NaN  S Ravi   \n",
       "88363  wickets            7.0         V Kohli          N    NaN  S Ravi   \n",
       "88364  wickets            7.0         V Kohli          N    NaN  S Ravi   \n",
       "88365  wickets            7.0         V Kohli          N    NaN  S Ravi   \n",
       "\n",
       "          umpire2  final_score  total_wickets  \n",
       "88361  SJA Taufel          161              6  \n",
       "88362  SJA Taufel          161              6  \n",
       "88363  SJA Taufel          161              6  \n",
       "88364  SJA Taufel          161              6  \n",
       "88365  SJA Taufel          161              6  "
      ]
     },
     "execution_count": 3,
     "metadata": {},
     "output_type": "execute_result"
    }
   ],
   "source": [
    "tdf1 = df[df['1st_team'] == 'Royal Challengers Bangalore']\n",
    "tdf1 = tdf1[tdf1['2nd_team'] == 'Sunrisers Hyderabad']\n",
    "tdf2 = df[df['1st_team'] == 'Sunrisers Hyderabad']\n",
    "tdf2 = tdf2[tdf2['2nd_team'] == 'Royal Challengers Bangalore']\n",
    "tdf = pd.concat([tdf1, tdf2], axis = 0)\n",
    "tdf.head()"
   ]
  },
  {
   "cell_type": "code",
   "execution_count": 4,
   "metadata": {
    "ExecuteTime": {
     "end_time": "2021-04-14T07:32:48.599246Z",
     "start_time": "2021-04-14T07:32:48.411857Z"
    }
   },
   "outputs": [
    {
     "data": {
      "image/png": "[encoded data removed]",
      "text/plain": [
       "<Figure size 720x432 with 1 Axes>"
      ]
     },
     "metadata": {
      "needs_background": "light"
     },
     "output_type": "display_data"
    }
   ],
   "source": [
    "fig, ax = plt.subplots(figsize=(10, 6))\n",
    "sns.countplot(x = 'winner', data = tdf)\n",
    "plt.xticks(fontsize = 10, ha = 'right')\n",
    "plt.xlabel('', fontsize = 10)\n",
    "plt.title('Head-to-Head')\n",
    "for p in ax.patches:\n",
    "    width, height = p.get_width(), p.get_height()\n",
    "    x, y = p.get_xy() \n",
    "    ax.annotate(f'{height/tdf.shape[0]:.0%}', (x + width/2, y + height * 1), ha='center', fontsize = 12)\n",
    "plt.show()"
   ]
  },
  {
   "cell_type": "code",
   "execution_count": 5,
   "metadata": {
    "ExecuteTime": {
     "end_time": "2021-04-14T07:32:50.883869Z",
     "start_time": "2021-04-14T07:32:50.629953Z"
    }
   },
   "outputs": [
    {
     "data": {
      "image/png": "[encoded data removed]",
      "text/plain": [
       "<Figure size 720x432 with 1 Axes>"
      ]
     },
     "metadata": {
      "needs_background": "light"
     },
     "output_type": "display_data"
    }
   ],
   "source": [
    "fig, ax = plt.subplots(figsize=(10, 6))\n",
    "sns.countplot(x = 'winner', hue = 'toss_winner', data = tdf)\n",
    "plt.xticks(fontsize = 10, ha = 'right')\n",
    "plt.xlabel('', fontsize = 10)\n",
    "plt.title('Toss ~ Match')\n",
    "for p in ax.patches:\n",
    "    width, height = p.get_width(), p.get_height()\n",
    "    x, y = p.get_xy() \n",
    "    ax.annotate(f'{height/tdf.shape[0]:.0%}', (x + width/2, y + height * 1), ha='center', fontsize = 12)\n",
    "plt.show()"
   ]
  },
  {
   "cell_type": "code",
   "execution_count": 6,
   "metadata": {
    "ExecuteTime": {
     "end_time": "2021-04-14T07:32:52.131758Z",
     "start_time": "2021-04-14T07:32:51.883400Z"
    }
   },
   "outputs": [
    {
     "data": {
      "image/png": "[encoded data removed]",
      "text/plain": [
       "<Figure size 720x432 with 1 Axes>"
      ]
     },
     "metadata": {
      "needs_background": "light"
     },
     "output_type": "display_data"
    }
   ],
   "source": [
    "fig, ax = plt.subplots(figsize=(10, 6))\n",
    "sns.countplot(x = 'winner', hue = 'toss_decision', data = tdf)\n",
    "plt.xticks(fontsize = 10, ha = 'right')\n",
    "plt.xlabel('', fontsize = 10)\n",
    "plt.title('Toss Decision ~ Match')\n",
    "for p in ax.patches:\n",
    "    width, height = p.get_width(), p.get_height()\n",
    "    x, y = p.get_xy() \n",
    "    ax.annotate(f'{height/tdf.shape[0]:.0%}', (x + width/2, y + height * 1), ha='center', fontsize = 12)\n",
    "plt.show()"
   ]
  },
  {
   "cell_type": "code",
   "execution_count": 7,
   "metadata": {
    "ExecuteTime": {
     "end_time": "2021-04-14T07:33:11.741976Z",
     "start_time": "2021-04-14T07:33:11.533572Z"
    }
   },
   "outputs": [
    {
     "data": {
      "image/png": "[encoded data removed]",
      "text/plain": [
       "<Figure size 720x432 with 1 Axes>"
      ]
     },
     "metadata": {
      "needs_background": "light"
     },
     "output_type": "display_data"
    }
   ],
   "source": [
    "tdf3 = tdf[tdf['toss_winner'] == 'Royal Challengers Bangalore']\n",
    "fig, ax = plt.subplots(figsize=(10, 6))\n",
    "sns.countplot(x = 'winner', hue = 'toss_decision', data = tdf3)\n",
    "plt.xticks(fontsize = 10, ha = 'right')\n",
    "plt.xlabel('', fontsize = 10)\n",
    "plt.title('RCB Toss Decision ~ Match')\n",
    "for p in ax.patches:\n",
    "    width, height = p.get_width(), p.get_height()\n",
    "    x, y = p.get_xy() \n",
    "    ax.annotate(f'{height/tdf3.shape[0]:.0%}', (x + width/2, y + height * 1), ha='center', fontsize = 12)\n",
    "plt.show()"
   ]
  },
  {
   "cell_type": "code",
   "execution_count": 8,
   "metadata": {
    "ExecuteTime": {
     "end_time": "2021-04-14T07:40:16.764167Z",
     "start_time": "2021-04-14T07:40:16.541237Z"
    }
   },
   "outputs": [
    {
     "data": {
      "image/png": "[encoded data removed]",
      "text/plain": [
       "<Figure size 720x432 with 1 Axes>"
      ]
     },
     "metadata": {
      "needs_background": "light"
     },
     "output_type": "display_data"
    }
   ],
   "source": [
    "tdf4 = tdf[tdf['toss_winner'] == 'Sunrisers Hyderabad']\n",
    "fig, ax = plt.subplots(figsize=(10, 6))\n",
    "sns.countplot(x = 'winner', hue = 'toss_decision', data = tdf4)\n",
    "plt.xticks(fontsize = 10, ha = 'right')\n",
    "plt.xlabel('', fontsize = 10)\n",
    "plt.title('SRH Toss Decision ~ Match')\n",
    "for p in ax.patches:\n",
    "    width, height = p.get_width(), p.get_height()\n",
    "    x, y = p.get_xy() \n",
    "    ax.annotate(f'{height/tdf4.shape[0]:.0%}', (x + width/2, y + height * 1), ha='center', fontsize = 12)\n",
    "plt.show()"
   ]
  },
  {
   "cell_type": "code",
   "execution_count": 9,
   "metadata": {
    "ExecuteTime": {
     "end_time": "2021-04-14T07:40:18.992163Z",
     "start_time": "2021-04-14T07:40:18.956715Z"
    }
   },
   "outputs": [
    {
     "data": {
      "text/html": [
       "<div>\n",
       "<style scoped>\n",
       "    .dataframe tbody tr th:only-of-type {\n",
       "        vertical-align: middle;\n",
       "    }\n",
       "\n",
       "    .dataframe tbody tr th {\n",
       "        vertical-align: top;\n",
       "    }\n",
       "\n",
       "    .dataframe thead th {\n",
       "        text-align: right;\n",
       "    }\n",
       "</style>\n",
       "<table border=\"1\" class=\"dataframe\">\n",
       "  <thead>\n",
       "    <tr style=\"text-align: right;\">\n",
       "      <th></th>\n",
       "      <th>id</th>\n",
       "      <th>date</th>\n",
       "      <th>city</th>\n",
       "      <th>venue</th>\n",
       "      <th>1st_team</th>\n",
       "      <th>neutral_venue</th>\n",
       "      <th>2nd_team</th>\n",
       "      <th>toss_winner</th>\n",
       "      <th>toss_decision</th>\n",
       "      <th>inning</th>\n",
       "      <th>batting_team</th>\n",
       "      <th>bowling_team</th>\n",
       "      <th>batsman</th>\n",
       "      <th>non_striker</th>\n",
       "      <th>bowler</th>\n",
       "      <th>over</th>\n",
       "      <th>ball</th>\n",
       "      <th>batsman_runs</th>\n",
       "      <th>extra_runs</th>\n",
       "      <th>total_runs</th>\n",
       "      <th>non_boundary</th>\n",
       "      <th>is_wicket</th>\n",
       "      <th>dismissal_kind</th>\n",
       "      <th>player_dismissed</th>\n",
       "      <th>fielder</th>\n",
       "      <th>extras_type</th>\n",
       "      <th>runs</th>\n",
       "      <th>wickets</th>\n",
       "      <th>runs_last_5_overs</th>\n",
       "      <th>wickets_last_5_overs</th>\n",
       "      <th>winner</th>\n",
       "      <th>result</th>\n",
       "      <th>result_margin</th>\n",
       "      <th>player_of_match</th>\n",
       "      <th>eliminator</th>\n",
       "      <th>method</th>\n",
       "      <th>umpire1</th>\n",
       "      <th>umpire2</th>\n",
       "      <th>final_score</th>\n",
       "      <th>total_wickets</th>\n",
       "    </tr>\n",
       "  </thead>\n",
       "  <tbody>\n",
       "  </tbody>\n",
       "</table>\n",
       "</div>"
      ],
      "text/plain": [
       "Empty DataFrame\n",
       "Columns: [id, date, city, venue, 1st_team, neutral_venue, 2nd_team, toss_winner, toss_decision, inning, batting_team, bowling_team, batsman, non_striker, bowler, over, ball, batsman_runs, extra_runs, total_runs, non_boundary, is_wicket, dismissal_kind, player_dismissed, fielder, extras_type, runs, wickets, runs_last_5_overs, wickets_last_5_overs, winner, result, result_margin, player_of_match, eliminator, method, umpire1, umpire2, final_score, total_wickets]\n",
       "Index: []"
      ]
     },
     "execution_count": 9,
     "metadata": {},
     "output_type": "execute_result"
    }
   ],
   "source": [
    "tdf5 = tdf[tdf['neutral_venue'] == 1]\n",
    "tdf5.head()"
   ]
  },
  {
   "cell_type": "code",
   "execution_count": 10,
   "metadata": {
    "ExecuteTime": {
     "end_time": "2021-04-14T07:04:47.762052Z",
     "start_time": "2021-04-14T07:04:47.503463Z"
    }
   },
   "outputs": [
    {
     "data": {
      "image/png": "[encoded data removed]",
      "text/plain": [
       "<Figure size 720x432 with 1 Axes>"
      ]
     },
     "metadata": {
      "needs_background": "light"
     },
     "output_type": "display_data"
    }
   ],
   "source": [
    "fig, ax = plt.subplots(figsize=(10, 6))\n",
    "sns.countplot(x = 'winner', hue = '1st_team', data = tdf)\n",
    "plt.xticks(fontsize = 10, ha = 'right')\n",
    "plt.xlabel('', fontsize = 10)\n",
    "plt.title('Home ~ Match')\n",
    "for p in ax.patches:\n",
    "    width, height = p.get_width(), p.get_height()\n",
    "    x, y = p.get_xy() \n",
    "    ax.annotate(f'{height/tdf.shape[0]:.0%}', (x + width/2, y + height * 1), ha='center', fontsize = 12)\n",
    "plt.show()"
   ]
  },
  {
   "cell_type": "code",
   "execution_count": 11,
   "metadata": {
    "ExecuteTime": {
     "end_time": "2021-04-14T07:05:25.862327Z",
     "start_time": "2021-04-14T07:05:25.606974Z"
    }
   },
   "outputs": [
    {
     "data": {
      "image/png": "[encoded data removed]",
      "text/plain": [
       "<Figure size 720x432 with 1 Axes>"
      ]
     },
     "metadata": {
      "needs_background": "light"
     },
     "output_type": "display_data"
    }
   ],
   "source": [
    "fig, ax = plt.subplots(figsize=(10, 6))\n",
    "sns.countplot(x = 'winner', hue = '2nd_team', data = tdf)\n",
    "plt.xticks(fontsize = 10, ha = 'right')\n",
    "plt.xlabel('', fontsize = 10)\n",
    "plt.title('Away ~ Match')\n",
    "for p in ax.patches:\n",
    "    width, height = p.get_width(), p.get_height()\n",
    "    x, y = p.get_xy() \n",
    "    ax.annotate(f'{height/tdf.shape[0]:.0%}', (x + width/2, y + height * 1), ha='center', fontsize = 12)\n",
    "plt.show()"
   ]
  },
  {
   "cell_type": "code",
   "execution_count": 10,
   "metadata": {
    "ExecuteTime": {
     "end_time": "2021-04-14T07:42:53.344352Z",
     "start_time": "2021-04-14T07:42:53.301790Z"
    }
   },
   "outputs": [
    {
     "data": {
      "text/html": [
       "<div>\n",
       "<style scoped>\n",
       "    .dataframe tbody tr th:only-of-type {\n",
       "        vertical-align: middle;\n",
       "    }\n",
       "\n",
       "    .dataframe tbody tr th {\n",
       "        vertical-align: top;\n",
       "    }\n",
       "\n",
       "    .dataframe thead th {\n",
       "        text-align: right;\n",
       "    }\n",
       "</style>\n",
       "<table border=\"1\" class=\"dataframe\">\n",
       "  <thead>\n",
       "    <tr style=\"text-align: right;\">\n",
       "      <th></th>\n",
       "      <th>id</th>\n",
       "      <th>date</th>\n",
       "      <th>city</th>\n",
       "      <th>venue</th>\n",
       "      <th>1st_team</th>\n",
       "      <th>neutral_venue</th>\n",
       "      <th>2nd_team</th>\n",
       "      <th>toss_winner</th>\n",
       "      <th>toss_decision</th>\n",
       "      <th>inning</th>\n",
       "      <th>batting_team</th>\n",
       "      <th>bowling_team</th>\n",
       "      <th>batsman</th>\n",
       "      <th>non_striker</th>\n",
       "      <th>bowler</th>\n",
       "      <th>over</th>\n",
       "      <th>ball</th>\n",
       "      <th>batsman_runs</th>\n",
       "      <th>extra_runs</th>\n",
       "      <th>total_runs</th>\n",
       "      <th>non_boundary</th>\n",
       "      <th>is_wicket</th>\n",
       "      <th>dismissal_kind</th>\n",
       "      <th>player_dismissed</th>\n",
       "      <th>fielder</th>\n",
       "      <th>extras_type</th>\n",
       "      <th>runs</th>\n",
       "      <th>wickets</th>\n",
       "      <th>runs_last_5_overs</th>\n",
       "      <th>wickets_last_5_overs</th>\n",
       "      <th>winner</th>\n",
       "      <th>result</th>\n",
       "      <th>result_margin</th>\n",
       "      <th>player_of_match</th>\n",
       "      <th>eliminator</th>\n",
       "      <th>method</th>\n",
       "      <th>umpire1</th>\n",
       "      <th>umpire2</th>\n",
       "      <th>final_score</th>\n",
       "      <th>total_wickets</th>\n",
       "    </tr>\n",
       "  </thead>\n",
       "  <tbody>\n",
       "    <tr>\n",
       "      <th>88361</th>\n",
       "      <td>598048</td>\n",
       "      <td>09-04-2013</td>\n",
       "      <td>Bangalore</td>\n",
       "      <td>M Chinnaswamy Stadium</td>\n",
       "      <td>Royal Challengers Bangalore</td>\n",
       "      <td>0</td>\n",
       "      <td>Sunrisers Hyderabad</td>\n",
       "      <td>Sunrisers Hyderabad</td>\n",
       "      <td>bat</td>\n",
       "      <td>1</td>\n",
       "      <td>Sunrisers Hyderabad</td>\n",
       "      <td>Royal Challengers Bangalore</td>\n",
       "      <td>PA Reddy</td>\n",
       "      <td>PA Patel</td>\n",
       "      <td>RP Singh</td>\n",
       "      <td>0</td>\n",
       "      <td>1</td>\n",
       "      <td>0</td>\n",
       "      <td>0</td>\n",
       "      <td>0</td>\n",
       "      <td>0</td>\n",
       "      <td>0</td>\n",
       "      <td>NaN</td>\n",
       "      <td>NaN</td>\n",
       "      <td>NaN</td>\n",
       "      <td>NaN</td>\n",
       "      <td>0</td>\n",
       "      <td>0</td>\n",
       "      <td>0</td>\n",
       "      <td>0</td>\n",
       "      <td>Royal Challengers Bangalore</td>\n",
       "      <td>wickets</td>\n",
       "      <td>7.0</td>\n",
       "      <td>V Kohli</td>\n",
       "      <td>N</td>\n",
       "      <td>NaN</td>\n",
       "      <td>S Ravi</td>\n",
       "      <td>SJA Taufel</td>\n",
       "      <td>161</td>\n",
       "      <td>6</td>\n",
       "    </tr>\n",
       "    <tr>\n",
       "      <th>88362</th>\n",
       "      <td>598048</td>\n",
       "      <td>09-04-2013</td>\n",
       "      <td>Bangalore</td>\n",
       "      <td>M Chinnaswamy Stadium</td>\n",
       "      <td>Royal Challengers Bangalore</td>\n",
       "      <td>0</td>\n",
       "      <td>Sunrisers Hyderabad</td>\n",
       "      <td>Sunrisers Hyderabad</td>\n",
       "      <td>bat</td>\n",
       "      <td>1</td>\n",
       "      <td>Sunrisers Hyderabad</td>\n",
       "      <td>Royal Challengers Bangalore</td>\n",
       "      <td>PA Reddy</td>\n",
       "      <td>PA Patel</td>\n",
       "      <td>RP Singh</td>\n",
       "      <td>0</td>\n",
       "      <td>2</td>\n",
       "      <td>2</td>\n",
       "      <td>0</td>\n",
       "      <td>2</td>\n",
       "      <td>0</td>\n",
       "      <td>0</td>\n",
       "      <td>NaN</td>\n",
       "      <td>NaN</td>\n",
       "      <td>NaN</td>\n",
       "      <td>NaN</td>\n",
       "      <td>2</td>\n",
       "      <td>0</td>\n",
       "      <td>2</td>\n",
       "      <td>0</td>\n",
       "      <td>Royal Challengers Bangalore</td>\n",
       "      <td>wickets</td>\n",
       "      <td>7.0</td>\n",
       "      <td>V Kohli</td>\n",
       "      <td>N</td>\n",
       "      <td>NaN</td>\n",
       "      <td>S Ravi</td>\n",
       "      <td>SJA Taufel</td>\n",
       "      <td>161</td>\n",
       "      <td>6</td>\n",
       "    </tr>\n",
       "    <tr>\n",
       "      <th>88363</th>\n",
       "      <td>598048</td>\n",
       "      <td>09-04-2013</td>\n",
       "      <td>Bangalore</td>\n",
       "      <td>M Chinnaswamy Stadium</td>\n",
       "      <td>Royal Challengers Bangalore</td>\n",
       "      <td>0</td>\n",
       "      <td>Sunrisers Hyderabad</td>\n",
       "      <td>Sunrisers Hyderabad</td>\n",
       "      <td>bat</td>\n",
       "      <td>1</td>\n",
       "      <td>Sunrisers Hyderabad</td>\n",
       "      <td>Royal Challengers Bangalore</td>\n",
       "      <td>PA Reddy</td>\n",
       "      <td>PA Patel</td>\n",
       "      <td>RP Singh</td>\n",
       "      <td>0</td>\n",
       "      <td>3</td>\n",
       "      <td>4</td>\n",
       "      <td>0</td>\n",
       "      <td>4</td>\n",
       "      <td>0</td>\n",
       "      <td>0</td>\n",
       "      <td>NaN</td>\n",
       "      <td>NaN</td>\n",
       "      <td>NaN</td>\n",
       "      <td>NaN</td>\n",
       "      <td>6</td>\n",
       "      <td>0</td>\n",
       "      <td>6</td>\n",
       "      <td>0</td>\n",
       "      <td>Royal Challengers Bangalore</td>\n",
       "      <td>wickets</td>\n",
       "      <td>7.0</td>\n",
       "      <td>V Kohli</td>\n",
       "      <td>N</td>\n",
       "      <td>NaN</td>\n",
       "      <td>S Ravi</td>\n",
       "      <td>SJA Taufel</td>\n",
       "      <td>161</td>\n",
       "      <td>6</td>\n",
       "    </tr>\n",
       "    <tr>\n",
       "      <th>88364</th>\n",
       "      <td>598048</td>\n",
       "      <td>09-04-2013</td>\n",
       "      <td>Bangalore</td>\n",
       "      <td>M Chinnaswamy Stadium</td>\n",
       "      <td>Royal Challengers Bangalore</td>\n",
       "      <td>0</td>\n",
       "      <td>Sunrisers Hyderabad</td>\n",
       "      <td>Sunrisers Hyderabad</td>\n",
       "      <td>bat</td>\n",
       "      <td>1</td>\n",
       "      <td>Sunrisers Hyderabad</td>\n",
       "      <td>Royal Challengers Bangalore</td>\n",
       "      <td>PA Reddy</td>\n",
       "      <td>PA Patel</td>\n",
       "      <td>RP Singh</td>\n",
       "      <td>0</td>\n",
       "      <td>4</td>\n",
       "      <td>0</td>\n",
       "      <td>0</td>\n",
       "      <td>0</td>\n",
       "      <td>0</td>\n",
       "      <td>0</td>\n",
       "      <td>NaN</td>\n",
       "      <td>NaN</td>\n",
       "      <td>NaN</td>\n",
       "      <td>NaN</td>\n",
       "      <td>6</td>\n",
       "      <td>0</td>\n",
       "      <td>6</td>\n",
       "      <td>0</td>\n",
       "      <td>Royal Challengers Bangalore</td>\n",
       "      <td>wickets</td>\n",
       "      <td>7.0</td>\n",
       "      <td>V Kohli</td>\n",
       "      <td>N</td>\n",
       "      <td>NaN</td>\n",
       "      <td>S Ravi</td>\n",
       "      <td>SJA Taufel</td>\n",
       "      <td>161</td>\n",
       "      <td>6</td>\n",
       "    </tr>\n",
       "    <tr>\n",
       "      <th>88365</th>\n",
       "      <td>598048</td>\n",
       "      <td>09-04-2013</td>\n",
       "      <td>Bangalore</td>\n",
       "      <td>M Chinnaswamy Stadium</td>\n",
       "      <td>Royal Challengers Bangalore</td>\n",
       "      <td>0</td>\n",
       "      <td>Sunrisers Hyderabad</td>\n",
       "      <td>Sunrisers Hyderabad</td>\n",
       "      <td>bat</td>\n",
       "      <td>1</td>\n",
       "      <td>Sunrisers Hyderabad</td>\n",
       "      <td>Royal Challengers Bangalore</td>\n",
       "      <td>PA Reddy</td>\n",
       "      <td>PA Patel</td>\n",
       "      <td>RP Singh</td>\n",
       "      <td>0</td>\n",
       "      <td>5</td>\n",
       "      <td>0</td>\n",
       "      <td>0</td>\n",
       "      <td>0</td>\n",
       "      <td>0</td>\n",
       "      <td>0</td>\n",
       "      <td>NaN</td>\n",
       "      <td>NaN</td>\n",
       "      <td>NaN</td>\n",
       "      <td>NaN</td>\n",
       "      <td>6</td>\n",
       "      <td>0</td>\n",
       "      <td>6</td>\n",
       "      <td>0</td>\n",
       "      <td>Royal Challengers Bangalore</td>\n",
       "      <td>wickets</td>\n",
       "      <td>7.0</td>\n",
       "      <td>V Kohli</td>\n",
       "      <td>N</td>\n",
       "      <td>NaN</td>\n",
       "      <td>S Ravi</td>\n",
       "      <td>SJA Taufel</td>\n",
       "      <td>161</td>\n",
       "      <td>6</td>\n",
       "    </tr>\n",
       "  </tbody>\n",
       "</table>\n",
       "</div>"
      ],
      "text/plain": [
       "           id        date       city                  venue  \\\n",
       "88361  598048  09-04-2013  Bangalore  M Chinnaswamy Stadium   \n",
       "88362  598048  09-04-2013  Bangalore  M Chinnaswamy Stadium   \n",
       "88363  598048  09-04-2013  Bangalore  M Chinnaswamy Stadium   \n",
       "88364  598048  09-04-2013  Bangalore  M Chinnaswamy Stadium   \n",
       "88365  598048  09-04-2013  Bangalore  M Chinnaswamy Stadium   \n",
       "\n",
       "                          1st_team  neutral_venue             2nd_team  \\\n",
       "88361  Royal Challengers Bangalore              0  Sunrisers Hyderabad   \n",
       "88362  Royal Challengers Bangalore              0  Sunrisers Hyderabad   \n",
       "88363  Royal Challengers Bangalore              0  Sunrisers Hyderabad   \n",
       "88364  Royal Challengers Bangalore              0  Sunrisers Hyderabad   \n",
       "88365  Royal Challengers Bangalore              0  Sunrisers Hyderabad   \n",
       "\n",
       "               toss_winner toss_decision  inning         batting_team  \\\n",
       "88361  Sunrisers Hyderabad           bat       1  Sunrisers Hyderabad   \n",
       "88362  Sunrisers Hyderabad           bat       1  Sunrisers Hyderabad   \n",
       "88363  Sunrisers Hyderabad           bat       1  Sunrisers Hyderabad   \n",
       "88364  Sunrisers Hyderabad           bat       1  Sunrisers Hyderabad   \n",
       "88365  Sunrisers Hyderabad           bat       1  Sunrisers Hyderabad   \n",
       "\n",
       "                      bowling_team   batsman non_striker    bowler  over  \\\n",
       "88361  Royal Challengers Bangalore  PA Reddy    PA Patel  RP Singh     0   \n",
       "88362  Royal Challengers Bangalore  PA Reddy    PA Patel  RP Singh     0   \n",
       "88363  Royal Challengers Bangalore  PA Reddy    PA Patel  RP Singh     0   \n",
       "88364  Royal Challengers Bangalore  PA Reddy    PA Patel  RP Singh     0   \n",
       "88365  Royal Challengers Bangalore  PA Reddy    PA Patel  RP Singh     0   \n",
       "\n",
       "       ball  batsman_runs  extra_runs  total_runs  non_boundary  is_wicket  \\\n",
       "88361     1             0           0           0             0          0   \n",
       "88362     2             2           0           2             0          0   \n",
       "88363     3             4           0           4             0          0   \n",
       "88364     4             0           0           0             0          0   \n",
       "88365     5             0           0           0             0          0   \n",
       "\n",
       "      dismissal_kind player_dismissed fielder extras_type  runs  wickets  \\\n",
       "88361            NaN              NaN     NaN         NaN     0        0   \n",
       "88362            NaN              NaN     NaN         NaN     2        0   \n",
       "88363            NaN              NaN     NaN         NaN     6        0   \n",
       "88364            NaN              NaN     NaN         NaN     6        0   \n",
       "88365            NaN              NaN     NaN         NaN     6        0   \n",
       "\n",
       "       runs_last_5_overs  wickets_last_5_overs                       winner  \\\n",
       "88361                  0                     0  Royal Challengers Bangalore   \n",
       "88362                  2                     0  Royal Challengers Bangalore   \n",
       "88363                  6                     0  Royal Challengers Bangalore   \n",
       "88364                  6                     0  Royal Challengers Bangalore   \n",
       "88365                  6                     0  Royal Challengers Bangalore   \n",
       "\n",
       "        result  result_margin player_of_match eliminator method umpire1  \\\n",
       "88361  wickets            7.0         V Kohli          N    NaN  S Ravi   \n",
       "88362  wickets            7.0         V Kohli          N    NaN  S Ravi   \n",
       "88363  wickets            7.0         V Kohli          N    NaN  S Ravi   \n",
       "88364  wickets            7.0         V Kohli          N    NaN  S Ravi   \n",
       "88365  wickets            7.0         V Kohli          N    NaN  S Ravi   \n",
       "\n",
       "          umpire2  final_score  total_wickets  \n",
       "88361  SJA Taufel          161              6  \n",
       "88362  SJA Taufel          161              6  \n",
       "88363  SJA Taufel          161              6  \n",
       "88364  SJA Taufel          161              6  \n",
       "88365  SJA Taufel          161              6  "
      ]
     },
     "execution_count": 10,
     "metadata": {},
     "output_type": "execute_result"
    }
   ],
   "source": [
    "tdf.head()"
   ]
  },
  {
   "cell_type": "code",
   "execution_count": 11,
   "metadata": {
    "ExecuteTime": {
     "end_time": "2021-04-14T07:43:11.981966Z",
     "start_time": "2021-04-14T07:43:11.964789Z"
    }
   },
   "outputs": [
    {
     "data": {
      "text/plain": [
       "162.1946946946947"
      ]
     },
     "execution_count": 11,
     "metadata": {},
     "output_type": "execute_result"
    }
   ],
   "source": [
    "tdf[tdf['batting_team'] == 'Royal Challengers Bangalore']['final_score'].mean()"
   ]
  },
  {
   "cell_type": "code",
   "execution_count": 12,
   "metadata": {
    "ExecuteTime": {
     "end_time": "2021-04-14T07:43:36.525640Z",
     "start_time": "2021-04-14T07:43:36.508474Z"
    }
   },
   "outputs": [
    {
     "data": {
      "text/plain": [
       "170.26806178375685"
      ]
     },
     "execution_count": 12,
     "metadata": {},
     "output_type": "execute_result"
    }
   ],
   "source": [
    "tdf[tdf['batting_team'] == 'Sunrisers Hyderabad']['final_score'].mean()"
   ]
  },
  {
   "cell_type": "code",
   "execution_count": 13,
   "metadata": {
    "ExecuteTime": {
     "end_time": "2021-04-14T07:43:55.672634Z",
     "start_time": "2021-04-14T07:43:55.652720Z"
    }
   },
   "outputs": [
    {
     "data": {
      "text/plain": [
       "164.372351160444"
      ]
     },
     "execution_count": 13,
     "metadata": {},
     "output_type": "execute_result"
    }
   ],
   "source": [
    "tdf[(tdf['inning'] == 1) & (tdf['batting_team'] == 'Royal Challengers Bangalore')]['final_score'].mean()"
   ]
  },
  {
   "cell_type": "code",
   "execution_count": 14,
   "metadata": {
    "ExecuteTime": {
     "end_time": "2021-04-14T07:44:35.635785Z",
     "start_time": "2021-04-14T07:44:35.621592Z"
    }
   },
   "outputs": [
    {
     "data": {
      "text/plain": [
       "181.13495782567946"
      ]
     },
     "execution_count": 14,
     "metadata": {},
     "output_type": "execute_result"
    }
   ],
   "source": [
    "tdf[(tdf['inning'] == 1) & (tdf['batting_team'] == 'Sunrisers Hyderabad')]['final_score'].mean()"
   ]
  },
  {
   "cell_type": "code",
   "execution_count": 15,
   "metadata": {
    "ExecuteTime": {
     "end_time": "2021-04-14T07:44:58.666451Z",
     "start_time": "2021-04-14T07:44:58.643995Z"
    }
   },
   "outputs": [
    {
     "data": {
      "text/plain": [
       "160.051638530288"
      ]
     },
     "execution_count": 15,
     "metadata": {},
     "output_type": "execute_result"
    }
   ],
   "source": [
    "tdf[(tdf['inning'] == 2) & (tdf['batting_team'] == 'Royal Challengers Bangalore')]['final_score'].mean()"
   ]
  },
  {
   "cell_type": "code",
   "execution_count": 16,
   "metadata": {
    "ExecuteTime": {
     "end_time": "2021-04-14T07:45:33.994557Z",
     "start_time": "2021-04-14T07:45:33.980598Z"
    }
   },
   "outputs": [
    {
     "data": {
      "text/plain": [
       "157.93297872340426"
      ]
     },
     "execution_count": 16,
     "metadata": {},
     "output_type": "execute_result"
    }
   ],
   "source": [
    "tdf[(tdf['inning'] == 2) & (tdf['batting_team'] == 'Sunrisers Hyderabad')]['final_score'].mean()"
   ]
  },
  {
   "cell_type": "code",
   "execution_count": 17,
   "metadata": {
    "ExecuteTime": {
     "end_time": "2021-04-14T07:47:15.006677Z",
     "start_time": "2021-04-14T07:47:14.996704Z"
    }
   },
   "outputs": [
    {
     "data": {
      "text/plain": [
       "145.0"
      ]
     },
     "execution_count": 17,
     "metadata": {},
     "output_type": "execute_result"
    }
   ],
   "source": [
    "tdf[(tdf['toss_decision'] == 'bat') & (tdf['inning'] == 1) & (tdf['batting_team'] == 'Royal Challengers Bangalore')]['final_score'].mean()"
   ]
  },
  {
   "cell_type": "code",
   "execution_count": 18,
   "metadata": {
    "ExecuteTime": {
     "end_time": "2021-04-14T07:48:06.424014Z",
     "start_time": "2021-04-14T07:48:06.412472Z"
    }
   },
   "outputs": [
    {
     "data": {
      "text/plain": [
       "173.77881619937693"
      ]
     },
     "execution_count": 18,
     "metadata": {},
     "output_type": "execute_result"
    }
   ],
   "source": [
    "tdf[(tdf['toss_decision'] == 'bat') & (tdf['inning'] == 1) & (tdf['batting_team'] == 'Sunrisers Hyderabad')]['final_score'].mean()"
   ]
  },
  {
   "cell_type": "code",
   "execution_count": 19,
   "metadata": {
    "ExecuteTime": {
     "end_time": "2021-04-14T07:48:37.730710Z",
     "start_time": "2021-04-14T07:48:37.716246Z"
    }
   },
   "outputs": [
    {
     "data": {
      "text/plain": [
       "170.76912751677852"
      ]
     },
     "execution_count": 19,
     "metadata": {},
     "output_type": "execute_result"
    }
   ],
   "source": [
    "tdf[(tdf['toss_decision'] == 'field') & (tdf['inning'] == 1) & (tdf['batting_team'] == 'Royal Challengers Bangalore')]['final_score'].mean()"
   ]
  },
  {
   "cell_type": "code",
   "execution_count": 20,
   "metadata": {
    "ExecuteTime": {
     "end_time": "2021-04-14T07:49:14.672264Z",
     "start_time": "2021-04-14T07:49:14.652288Z"
    }
   },
   "outputs": [
    {
     "data": {
      "text/plain": [
       "184.30026809651474"
      ]
     },
     "execution_count": 20,
     "metadata": {},
     "output_type": "execute_result"
    }
   ],
   "source": [
    "tdf[(tdf['toss_decision'] == 'field') & (tdf['inning'] == 1) & (tdf['batting_team'] == 'Sunrisers Hyderabad')]['final_score'].mean()"
   ]
  },
  {
   "cell_type": "code",
   "execution_count": 21,
   "metadata": {
    "ExecuteTime": {
     "end_time": "2021-04-14T07:50:56.220792Z",
     "start_time": "2021-04-14T07:50:56.204833Z"
    }
   },
   "outputs": [
    {
     "data": {
      "text/plain": [
       "156.80325644504748"
      ]
     },
     "execution_count": 21,
     "metadata": {},
     "output_type": "execute_result"
    }
   ],
   "source": [
    "tdf[(tdf['toss_decision'] == 'field') & (tdf['inning'] == 2) & (tdf['batting_team'] == 'Royal Challengers Bangalore')]['final_score'].mean()"
   ]
  },
  {
   "cell_type": "code",
   "execution_count": 22,
   "metadata": {
    "ExecuteTime": {
     "end_time": "2021-04-14T07:51:29.375367Z",
     "start_time": "2021-04-14T07:51:29.363829Z"
    }
   },
   "outputs": [
    {
     "data": {
      "text/plain": [
       "162.4293948126801"
      ]
     },
     "execution_count": 22,
     "metadata": {},
     "output_type": "execute_result"
    }
   ],
   "source": [
    "tdf[(tdf['toss_decision'] == 'field') & (tdf['inning'] == 2) & (tdf['batting_team'] == 'Sunrisers Hyderabad')]['final_score'].mean()"
   ]
  },
  {
   "cell_type": "code",
   "execution_count": 23,
   "metadata": {
    "ExecuteTime": {
     "end_time": "2021-04-14T07:52:28.604979Z",
     "start_time": "2021-04-14T07:52:28.579602Z"
    }
   },
   "outputs": [
    {
     "data": {
      "text/plain": [
       "168.9185185185185"
      ]
     },
     "execution_count": 23,
     "metadata": {},
     "output_type": "execute_result"
    }
   ],
   "source": [
    "tdf[(tdf['toss_decision'] == 'bat') & (tdf['inning'] == 2) & (tdf['batting_team'] == 'Royal Challengers Bangalore')]['final_score'].mean()"
   ]
  },
  {
   "cell_type": "code",
   "execution_count": 24,
   "metadata": {
    "ExecuteTime": {
     "end_time": "2021-04-14T07:52:56.454040Z",
     "start_time": "2021-04-14T07:52:56.436517Z"
    }
   },
   "outputs": [
    {
     "data": {
      "text/plain": [
       "145.2479674796748"
      ]
     },
     "execution_count": 24,
     "metadata": {},
     "output_type": "execute_result"
    }
   ],
   "source": [
    "tdf[(tdf['toss_decision'] == 'bat') & (tdf['inning'] == 2) & (tdf['batting_team'] == 'Sunrisers Hyderabad')]['final_score'].mean()"
   ]
  },
  {
   "cell_type": "code",
   "execution_count": null,
   "metadata": {},
   "outputs": [],
   "source": []
  }
 ],
 "metadata": {
  "kernelspec": {
   "display_name": "Python 3",
   "language": "python",
   "name": "python3"
  },
  "language_info": {
   "codemirror_mode": {
    "name": "ipython",
    "version": 3
   },
   "file_extension": ".py",
   "mimetype": "text/x-python",
   "name": "python",
   "nbconvert_exporter": "python",
   "pygments_lexer": "ipython3",
   "version": "3.8.5"
  }
 },
 "nbformat": 4,
 "nbformat_minor": 4
}
